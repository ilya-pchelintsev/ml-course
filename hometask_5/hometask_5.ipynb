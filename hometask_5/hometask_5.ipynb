{
 "cells": [
  {
   "cell_type": "markdown",
   "metadata": {
    "colab_type": "text",
    "id": "0aRCzXYcdiYx"
   },
   "source": [
    "# Случайность в вероятности и на практике\n",
    "\n",
    "О подходах к понятию случайности: \n",
    "\n",
    "Н.К. Верещагин, В.А. Успенский, А. Шень. Колмогоровская сложность и алгоритмическая случайность. \n",
    "https://www.mccme.ru/free-books/shen/kolmbook.pdf\n",
    "\n",
    "А.Н. Ширяев. Случайность в вероятности (доклад на семинаре кафедры теории веротяностей). http://www.mathnet.ru:8080/PresentFiles/21897/bsk_2018_10_17_shiryaev_an_randomness_in_probability_slides.pdf"
   ]
  },
  {
   "cell_type": "markdown",
   "metadata": {
    "colab_type": "text",
    "id": "gGaMEWqqdiYz"
   },
   "source": [
    "## Генераторы случайных чисел"
   ]
  },
  {
   "cell_type": "markdown",
   "metadata": {
    "colab_type": "text",
    "id": "KKkc3qORdiY0"
   },
   "source": [
    "Что происходит при вызове, напрмер, ```np.random.rand()```?\n",
    "\n",
    "Как устроен источник случайной последовательности?\n",
    "\n",
    "![img](https://cdn.ablebits.com/_img-blog/random-generator/random-generator.png)"
   ]
  },
  {
   "cell_type": "markdown",
   "metadata": {
    "colab_type": "text",
    "id": "z9EkarifdiY2"
   },
   "source": [
    "Рассмотрим простой и популрный алгоритм - Linear congruential generator (LCG). При вызове функции ```rand()``` в C/C++ происзодит обращение именно к LCG."
   ]
  },
  {
   "cell_type": "markdown",
   "metadata": {
    "colab_type": "text",
    "id": "sx9CIKsSdiY2"
   },
   "source": [
    "Linear congruential generator производит последовательность:\n",
    "$$ z_{i+1} = (az_i + c) \\mod m $$\n",
    "\n",
    "Число $z_0$ называется *seed* и обеспечивает воспроизводимость последовательности “случайных” чисел.\n",
    "\n",
    "Напишем функцию, которая реализует LCG:"
   ]
  },
  {
   "cell_type": "code",
   "execution_count": 1,
   "metadata": {
    "colab": {},
    "colab_type": "code",
    "id": "LqxgMijIdiY3"
   },
   "outputs": [],
   "source": [
    "def rng(m=2**32, a=1103515245, c=12345):\n",
    "    rng.current = (a * rng.current + c) % m\n",
    "    return rng.current / m\n",
    "\n",
    "# setting the seed\n",
    "rng.current = 1"
   ]
  },
  {
   "cell_type": "markdown",
   "metadata": {
    "colab_type": "text",
    "id": "d0AqPXS7diY5"
   },
   "source": [
    "Выведем несколько первых элементов последовательности:"
   ]
  },
  {
   "cell_type": "code",
   "execution_count": 2,
   "metadata": {
    "colab": {},
    "colab_type": "code",
    "id": "osNjN2U4diY6",
    "outputId": "13438912-a5a1-4c67-dab6-6247d775602f"
   },
   "outputs": [
    {
     "data": {
      "text/plain": [
       "[0.25693503906950355,\n",
       " 0.5878706516232342,\n",
       " 0.15432575810700655,\n",
       " 0.767266943352297,\n",
       " 0.9738139626570046,\n",
       " 0.5858681506942958,\n",
       " 0.8511155843734741,\n",
       " 0.6132153405342251,\n",
       " 0.7473867232911289,\n",
       " 0.06236015981994569]"
      ]
     },
     "execution_count": 2,
     "metadata": {},
     "output_type": "execute_result"
    }
   ],
   "source": [
    "[rng() for i in range(10)]"
   ]
  },
  {
   "cell_type": "markdown",
   "metadata": {
    "colab_type": "text",
    "id": "xZXUiK0idiY9"
   },
   "source": [
    "Выбор параметров $m$, $a$ и $c$ существенно влияет на качество последовательности. Если параметры выбрать наобум, это может привести к неожиданным последствиям:"
   ]
  },
  {
   "cell_type": "code",
   "execution_count": 3,
   "metadata": {
    "colab": {},
    "colab_type": "code",
    "id": "9DWifIyadiY9",
    "outputId": "d08ab4b5-e5ac-45f2-9c26-82a8b4b88c6d"
   },
   "outputs": [
    {
     "name": "stdout",
     "output_type": "stream",
     "text": [
      "This sequence looks as random:\n"
     ]
    },
    {
     "data": {
      "text/plain": [
       "[0.36082474226804123,\n",
       " 0.8041237113402062,\n",
       " 0.020618556701030927,\n",
       " 0.10309278350515463,\n",
       " 0.5154639175257731,\n",
       " 0.5773195876288659,\n",
       " 0.8865979381443299,\n",
       " 0.4329896907216495,\n",
       " 0.16494845360824742,\n",
       " 0.8247422680412371]"
      ]
     },
     "execution_count": 3,
     "metadata": {},
     "output_type": "execute_result"
    }
   ],
   "source": [
    "def rng(m=97, a=5, c=0):\n",
    "    rng.current = (a * rng.current + c) % m\n",
    "    return rng.current / m\n",
    "rng.current = 7\n",
    "\n",
    "random = [rng() for i in range(1000)]\n",
    "print(\"This sequence looks as random:\")\n",
    "random[:10]"
   ]
  },
  {
   "cell_type": "markdown",
   "metadata": {
    "colab_type": "text",
    "id": "ClnjUt9ddiY_"
   },
   "source": [
    "Гистограмма распределения похожа на равномерное:"
   ]
  },
  {
   "cell_type": "code",
   "execution_count": 4,
   "metadata": {
    "colab": {},
    "colab_type": "code",
    "id": "wBlZwI6ndiZA",
    "outputId": "c35d5abd-d540-4778-a9e6-169e0439fa1a"
   },
   "outputs": [
    {
     "name": "stderr",
     "output_type": "stream",
     "text": [
      "/usr/local/anaconda3/lib/python3.7/site-packages/ipykernel_launcher.py:2: MatplotlibDeprecationWarning: \n",
      "The 'normed' kwarg was deprecated in Matplotlib 2.1 and will be removed in 3.1. Use 'density' instead.\n",
      "  \n"
     ]
    },
    {
     "data": {
      "text/plain": [
       "<Figure size 640x480 with 1 Axes>"
      ]
     },
     "metadata": {},
     "output_type": "display_data"
    }
   ],
   "source": [
    "import matplotlib.pyplot as plt\n",
    "plt.hist(random, normed=True)\n",
    "plt.show()"
   ]
  },
  {
   "cell_type": "markdown",
   "metadata": {
    "colab_type": "text",
    "id": "jK0-W5ZbdiZC"
   },
   "source": [
    "Однако, спектральный тест показывает, что точки располагаются на гиперплоскостях, что плохо согласуется с предствалением о случайности:"
   ]
  },
  {
   "cell_type": "code",
   "execution_count": 5,
   "metadata": {
    "colab": {},
    "colab_type": "code",
    "id": "id0Wt3W1diZC",
    "outputId": "1df26491-1137-473f-d2e3-955220b4ed07"
   },
   "outputs": [
    {
     "data": {
      "image/png": "[encoded data removed]",
      "text/plain": [
       "<Figure size 432x288 with 1 Axes>"
      ]
     },
     "metadata": {
      "needs_background": "light"
     },
     "output_type": "display_data"
    }
   ],
   "source": [
    "plt.scatter(random[1:], random[:-1])\n",
    "plt.show()"
   ]
  },
  {
   "cell_type": "markdown",
   "metadata": {
    "colab_type": "text",
    "id": "acoBBpJ3diZE"
   },
   "source": [
    "Более аккуратный выбор параметров приводит с более \"случайному\" распределению:"
   ]
  },
  {
   "cell_type": "code",
   "execution_count": 6,
   "metadata": {
    "colab": {},
    "colab_type": "code",
    "id": "bFEQUw_DdiZE",
    "outputId": "85118f78-27a9-4594-f404-23e790cbad11"
   },
   "outputs": [
    {
     "data": {
      "image/png": "[encoded data removed]",
      "text/plain": [
       "<Figure size 432x288 with 1 Axes>"
      ]
     },
     "metadata": {
      "needs_background": "light"
     },
     "output_type": "display_data"
    }
   ],
   "source": [
    "def rng(m=2**32, a=1103515245, c=12345):\n",
    "    rng.current = (a * rng.current + c) % m\n",
    "    return rng.current / m\n",
    "rng.current = 1\n",
    "\n",
    "random = [rng() for i in range(1000)]\n",
    "plt.scatter(random[1:], random[:-1])\n",
    "plt.show()"
   ]
  },
  {
   "cell_type": "markdown",
   "metadata": {
    "colab_type": "text",
    "id": "vH11PZr2diZG"
   },
   "source": [
    "Существует набор тестов для проверки \"случайности\". Например, тесты [Diehard tests](https://en.wikipedia.org/wiki/Diehard_tests)."
   ]
  },
  {
   "cell_type": "markdown",
   "metadata": {
    "colab_type": "text",
    "id": "E-_a6vHFhzGq"
   },
   "source": [
    "Больше методов генерации собрано [здесь](https://en.wikipedia.org/wiki/List_of_random_number_generators)."
   ]
  },
  {
   "cell_type": "markdown",
   "metadata": {
    "colab_type": "text",
    "id": "cuGe1hKIdiZH"
   },
   "source": [
    "## Генерация выборки из заданного распределения"
   ]
  },
  {
   "cell_type": "markdown",
   "metadata": {
    "colab_type": "text",
    "id": "P_aljqUUdiZH"
   },
   "source": [
    "Допустим, у нас есть генератор случайных числе из отрезка [0, 1]. Как получить выборку из нового распределения $F$?\n",
    "\n"
   ]
  },
  {
   "cell_type": "markdown",
   "metadata": {
    "colab_type": "text",
    "id": "nicNq6-yrD7P"
   },
   "source": [
    "### Задача\n",
    "Смоделировать выборку объема 1000 из дискретного распределения на множестве цифр 0, 1, 2, ..., 9 с весами 0.12, 0.3, 0.167, 0.24, 0.31, 0.54, 0.111, 0.02, 0.001, 0.2. По выборке построить гистограмму. Оптимизируйте алгоритм, упорядочив веса. Сравните время генерации выборки с неупорядоченными и упорядоченными весами.\n"
   ]
  },
  {
   "cell_type": "code",
   "execution_count": 7,
   "metadata": {},
   "outputs": [],
   "source": [
    "import numpy as np\n",
    "import matplotlib.pyplot as plt\n",
    "from operator import itemgetter\n",
    "%matplotlib inline"
   ]
  },
  {
   "cell_type": "code",
   "execution_count": 8,
   "metadata": {
    "colab": {},
    "colab_type": "code",
    "id": "2djF1xMoq_1f"
   },
   "outputs": [],
   "source": [
    "def generate_discrete(weights, size):\n",
    "    weights = weights / weights.sum()\n",
    "    \n",
    "    uniform = np.random.uniform(size=size)\n",
    "    res = np.zeros(size)\n",
    "    for i in range(uniform.size):\n",
    "        cur_sum = 0\n",
    "        for j in range(len(weights)):\n",
    "            if weights[j] + cur_sum >= uniform.flat[i]:\n",
    "                res.flat[i] = j\n",
    "                break\n",
    "            cur_sum += weights[j]\n",
    "    return res\n",
    "\n",
    "\n",
    "def generate_discrete_fast(weights, size):\n",
    "    weights = weights / weights.sum()\n",
    "    weights = list(enumerate(weights))\n",
    "    weights.sort(key=itemgetter(1), reverse=True)\n",
    "    \n",
    "    uniform = np.random.uniform(size=size)\n",
    "    res = np.zeros(size)\n",
    "    for i in range(uniform.size):\n",
    "        cur_sum = 0\n",
    "        for number, weight in weights:\n",
    "            if weight + cur_sum >= uniform.flat[i]:\n",
    "                res.flat[i] = number\n",
    "                break\n",
    "            cur_sum += weight\n",
    "    \n",
    "    return res"
   ]
  },
  {
   "cell_type": "code",
   "execution_count": 9,
   "metadata": {},
   "outputs": [
    {
     "data": {
      "text/plain": [
       "(array([ 57., 156.,  85., 110., 153., 288.,  59.,   8.,   1.,  83.]),\n",
       " array([0. , 0.9, 1.8, 2.7, 3.6, 4.5, 5.4, 6.3, 7.2, 8.1, 9. ]),\n",
       " <a list of 10 Patch objects>)"
      ]
     },
     "execution_count": 9,
     "metadata": {},
     "output_type": "execute_result"
    },
    {
     "data": {
      "image/png": "[encoded data removed]",
      "text/plain": [
       "<Figure size 432x288 with 1 Axes>"
      ]
     },
     "metadata": {
      "needs_background": "light"
     },
     "output_type": "display_data"
    }
   ],
   "source": [
    "weights = np.array([0.12, 0.3, 0.167, 0.24, 0.31, 0.54, 0.111, 0.02, 0.001, 0.2])\n",
    "data = generate_discrete(weights, 1000)\n",
    "plt.hist(data, bins=10)"
   ]
  },
  {
   "cell_type": "code",
   "execution_count": 10,
   "metadata": {},
   "outputs": [
    {
     "data": {
      "text/plain": [
       "(array([ 58., 164.,  74., 119., 158., 260.,  58.,   4.,   1., 104.]),\n",
       " array([0. , 0.9, 1.8, 2.7, 3.6, 4.5, 5.4, 6.3, 7.2, 8.1, 9. ]),\n",
       " <a list of 10 Patch objects>)"
      ]
     },
     "execution_count": 10,
     "metadata": {},
     "output_type": "execute_result"
    },
    {
     "data": {
      "image/png": "[encoded data removed]",
      "text/plain": [
       "<Figure size 432x288 with 1 Axes>"
      ]
     },
     "metadata": {
      "needs_background": "light"
     },
     "output_type": "display_data"
    }
   ],
   "source": [
    "data = generate_discrete_fast(weights, 1000)\n",
    "plt.hist(data, bins=10)"
   ]
  },
  {
   "cell_type": "code",
   "execution_count": 11,
   "metadata": {},
   "outputs": [
    {
     "name": "stdout",
     "output_type": "stream",
     "text": [
      "CPU times: user 48.5 ms, sys: 1.58 ms, total: 50.1 ms\n",
      "Wall time: 52.2 ms\n"
     ]
    }
   ],
   "source": [
    "%time data = generate_discrete(weights, 10000)"
   ]
  },
  {
   "cell_type": "code",
   "execution_count": 12,
   "metadata": {},
   "outputs": [
    {
     "name": "stdout",
     "output_type": "stream",
     "text": [
      "CPU times: user 27.1 ms, sys: 1.48 ms, total: 28.6 ms\n",
      "Wall time: 30.6 ms\n"
     ]
    }
   ],
   "source": [
    "%time data = generate_discrete_fast(weights, 10000)"
   ]
  },
  {
   "cell_type": "markdown",
   "metadata": {},
   "source": [
    "Алгоритм с сортировкой работает почти в два раза быстрее."
   ]
  },
  {
   "cell_type": "markdown",
   "metadata": {
    "colab_type": "text",
    "id": "F-VMprlQdiZJ"
   },
   "source": [
    "### Inverse transform method"
   ]
  },
  {
   "cell_type": "markdown",
   "metadata": {
    "colab_type": "text",
    "id": "DXgRVEkidiZJ"
   },
   "source": [
    "В следующем предложении заключается идея метода *inverse transform*:\n",
    "\n",
    "Если $\\xi$ имеет равномерное распределение в $[0,1]$, тогда $F^{-1}(\\xi)$ распределена по закону $F$. (Для каких $F$ это верно?)"
   ]
  },
  {
   "cell_type": "markdown",
   "metadata": {
    "colab_type": "text",
    "id": "LlRNa517diZK"
   },
   "source": [
    "### Задача\n",
    "Смделируйте выборку размера 1000 из распределения $Exp(\\lambda)$. Постройте выборочную гистограмму и точный график плотности распределения."
   ]
  },
  {
   "cell_type": "markdown",
   "metadata": {},
   "source": [
    "Найдем обратную функцию распределения:\n",
    "$$ F(x) = 1 - e^{-\\lambda x} $$\n",
    "$$ F^{-1}(x) = \\frac{\\ln{(1 - F(x))}}{-\\lambda} $$"
   ]
  },
  {
   "cell_type": "code",
   "execution_count": 13,
   "metadata": {},
   "outputs": [],
   "source": [
    "import scipy.stats"
   ]
  },
  {
   "cell_type": "code",
   "execution_count": 15,
   "metadata": {
    "colab": {},
    "colab_type": "code",
    "id": "vD1_buYgdiZK"
   },
   "outputs": [
    {
     "data": {
      "text/plain": [
       "[<matplotlib.lines.Line2D at 0x119041c18>]"
      ]
     },
     "execution_count": 15,
     "metadata": {},
     "output_type": "execute_result"
    },
    {
     "data": {
      "image/png": "[encoded data removed]",
      "text/plain": [
       "<Figure size 432x288 with 1 Axes>"
      ]
     },
     "metadata": {
      "needs_background": "light"
     },
     "output_type": "display_data"
    }
   ],
   "source": [
    "l = 2\n",
    "uniform = np.random.uniform(size=1000)\n",
    "exp = np.log(1 - uniform) / (-l)\n",
    "plt.hist(exp, density=True, bins=20)\n",
    "\n",
    "r = np.arange(0, 4, .01)\n",
    "plt.plot(r, scipy.stats.expon.pdf(r, scale=1 / l))"
   ]
  },
  {
   "cell_type": "markdown",
   "metadata": {
    "colab_type": "text",
    "id": "UEtDHxDUdiZM"
   },
   "source": [
    "### Rejection sampling (Accept-reject method)\n",
    "\n",
    "Идея метода: сэмплить из распределения, из которого умеем, а затем отбирать точки, которые следуют нужному распределению. Картинка иллюстрирует идею метода:\n",
    "<img src=https://colcarroll.github.io/hamiltonian_monte_carlo_talk/images/bayes_talk.015.png style=\"width: 50%;\"/>\n",
    " "
   ]
  },
  {
   "cell_type": "markdown",
   "metadata": {
    "colab_type": "text",
    "id": "Tgzc6QjxdiZN"
   },
   "source": [
    "### Задача\n",
    "Обоснуйте, что метод accept-reject действительно производит выборку из нужного распределения. Смоделируйте 1000 точек из усеченного распределения Коши, приведенного ниже, используя генератор равномерного распределения. Нарисуйте график полученной выборочной гистограммы и сравните его с графиком точной функции плотности."
   ]
  },
  {
   "cell_type": "markdown",
   "metadata": {},
   "source": [
    "Пусть мы хотим сгенерировать выборку из распределения с плотностью $ p $. Пусть мы можем генерировать выборку из распределения с плотностью $ q $ такого, что найдется константа $ C $, что $ p \\leq C q $. Тогда метод accept-reject выглядит так: мы генерируем элемент $ x $ из $ q $, затем генериуем элемент $ y $ из равномерного распределения на отрезке $ [0, 1] $. Если $ y \\leq \\frac{p(x) }{C q(x)} $, то оставляем его, иначе повторяем процедуру заново. Проверим, что $ y $ имеет плотноть $ p $:\n",
    "\n",
    "$$ P(y \\leq t) = "
   ]
  },
  {
   "cell_type": "code",
   "execution_count": 16,
   "metadata": {
    "colab": {},
    "colab_type": "code",
    "id": "06HcUVFBdiZN",
    "outputId": "05beb147-ff36-4ab9-f4ac-ea6686cb7cb1"
   },
   "outputs": [
    {
     "data": {
      "image/png": "[encoded data removed]",
      "text/plain": [
       "<Figure size 432x288 with 1 Axes>"
      ]
     },
     "metadata": {
      "needs_background": "light"
     },
     "output_type": "display_data"
    }
   ],
   "source": [
    "from scipy import stats\n",
    "import numpy as np\n",
    "dist = stats.cauchy()\n",
    "x = np.linspace(-4, 4, 100)\n",
    "plt.fill_between(x, 0, dist.pdf(x)) #needs to be normalized!\n",
    "plt.show()"
   ]
  },
  {
   "cell_type": "code",
   "execution_count": 17,
   "metadata": {
    "colab": {},
    "colab_type": "code",
    "id": "O6uRvW8pdiZP"
   },
   "outputs": [],
   "source": [
    "def truncated_cauchy(x, low, high):\n",
    "    density = scipy.stats.cauchy.pdf(x)\n",
    "    density[(x < low) | (x > high)] = 0\n",
    "    density /= scipy.stats.cauchy.cdf(high) - scipy.stats.cauchy.cdf(low)\n",
    "    return density"
   ]
  },
  {
   "cell_type": "code",
   "execution_count": 18,
   "metadata": {},
   "outputs": [
    {
     "data": {
      "text/plain": [
       "[<matplotlib.lines.Line2D at 0x1190dc128>]"
      ]
     },
     "execution_count": 18,
     "metadata": {},
     "output_type": "execute_result"
    },
    {
     "data": {
      "image/png": "[encoded data removed]",
      "text/plain": [
       "<Figure size 432x288 with 1 Axes>"
      ]
     },
     "metadata": {
      "needs_background": "light"
     },
     "output_type": "display_data"
    }
   ],
   "source": [
    "q = np.random.uniform(low=-4, high=4, size=5000)\n",
    "p_density = truncated_cauchy(q, -4, 4)\n",
    "q_density = scipy.stats.uniform.pdf(q, loc=-4, scale=8)\n",
    "y = np.random.uniform(size=5000)\n",
    "C = 4\n",
    "\n",
    "p = q[y < p_density / (C * q_density)]\n",
    "p = p[:1000]\n",
    "plt.hist(p, density=True, bins=20)\n",
    "\n",
    "r = np.linspace(-6, 6, 1000)\n",
    "plt.plot(r, truncated_cauchy(r, -4, 4))"
   ]
  },
  {
   "cell_type": "markdown",
   "metadata": {
    "colab_type": "text",
    "id": "kq8tMmPYdiZS"
   },
   "source": [
    "##  Coordinate transformation method\n",
    "\n",
    "Метод аccept-reject в ряде случаев может оказываться неэффективным и требовать слишком много пробных точек. Альтернатива -  попробовать найти преобразование координат, которое переводит простую область (из которой легко сэмплить, например, едининчный квадрат) в требуемую, но при этом сохраняет соотношение площадей."
   ]
  },
  {
   "cell_type": "markdown",
   "metadata": {
    "colab_type": "text",
    "id": "xGIRsM7KdiZS"
   },
   "source": [
    "### Задача\n",
    "Смоделировать выборку из 500 точек равномерно распределенных внутри данного треугольника без использования метода отбора. "
   ]
  },
  {
   "cell_type": "code",
   "execution_count": 19,
   "metadata": {
    "colab": {},
    "colab_type": "code",
    "id": "V-aQwOVvdiZT",
    "outputId": "d6e9958f-57ab-4224-9974-13bc6b7bc351"
   },
   "outputs": [
    {
     "data": {
      "image/png": "[encoded data removed]",
      "text/plain": [
       "<Figure size 432x288 with 1 Axes>"
      ]
     },
     "metadata": {
      "needs_background": "light"
     },
     "output_type": "display_data"
    }
   ],
   "source": [
    "import matplotlib\n",
    "from matplotlib.patches import Polygon\n",
    "from matplotlib.collections import PatchCollection\n",
    "\n",
    "polygon = Polygon(0.1 * np.array([[1, 2], [2, 9], [8, 1]]), True)\n",
    "plt.gca().add_collection(PatchCollection([polygon]))\n",
    "plt.show()"
   ]
  },
  {
   "cell_type": "code",
   "execution_count": 30,
   "metadata": {
    "colab": {},
    "colab_type": "code",
    "id": "_x5KNetcdiZU"
   },
   "outputs": [
    {
     "data": {
      "text/plain": [
       "<matplotlib.collections.PathCollection at 0x1194413c8>"
      ]
     },
     "execution_count": 30,
     "metadata": {},
     "output_type": "execute_result"
    },
    {
     "data": {
      "image/png": "[encoded data removed]",
      "text/plain": [
       "<Figure size 432x288 with 1 Axes>"
      ]
     },
     "metadata": {
      "needs_background": "light"
     },
     "output_type": "display_data"
    }
   ],
   "source": [
    "x = np.random.uniform(size=500)\n",
    "y = np.random.uniform(size=500)\n",
    "\n",
    "upper_mask = (x + y) > 1\n",
    "x[upper_mask] = 1 - x[upper_mask]\n",
    "y[upper_mask] = 1 - y[upper_mask]\n",
    "\n",
    "x =  .7 * x + .1 * y + .1\n",
    "y = -.1 * x + .7 * y + .2\n",
    "\n",
    "plt.scatter(x, y)"
   ]
  },
  {
   "cell_type": "markdown",
   "metadata": {
    "colab_type": "text",
    "id": "p69CWYlBdiZW"
   },
   "source": [
    "### Задача\n",
    "Смоделировать выборку из 500 точек внутри данного круга без использования метода отбора."
   ]
  },
  {
   "cell_type": "code",
   "execution_count": 21,
   "metadata": {
    "colab": {},
    "colab_type": "code",
    "id": "trOeYSO9diZW",
    "outputId": "aaa9d07a-96da-4f86-cd68-06c5a5da7c2d"
   },
   "outputs": [
    {
     "data": {
      "image/png": "[encoded data removed]",
      "text/plain": [
       "<Figure size 432x288 with 1 Axes>"
      ]
     },
     "metadata": {
      "needs_background": "light"
     },
     "output_type": "display_data"
    }
   ],
   "source": [
    "from matplotlib.patches import Circle\n",
    "t = np.linspace(0, 2 * np.pi, 100)\n",
    "plt.plot(np.sin(t), np.cos(t))\n",
    "plt.axis('equal')\n",
    "plt.show()"
   ]
  },
  {
   "cell_type": "markdown",
   "metadata": {},
   "source": [
    "Подберем подходящие распределения на полярные координаты $ (r, \\phi) $. $ \\phi $ будем брать из равномерного распределения на $ [0, 2 \\pi] $. Для того, чтобы получить равномерное распределение в круге нам достаточно, чтобы вероятность попадания в круг радиуса $ R $ была равна $ \\frac{\\pi R^2}{\\pi 1^2} = R^2 $. То есть у $ r $ функция распределения $ x^2 $. Радиус будем генерировать методом inverse transform."
   ]
  },
  {
   "cell_type": "code",
   "execution_count": 59,
   "metadata": {
    "colab": {},
    "colab_type": "code",
    "id": "D9qZcU9OdiZY"
   },
   "outputs": [
    {
     "data": {
      "text/plain": [
       "(-1.084156442351802,\n",
       " 1.0819269193067365,\n",
       " -1.0842922078068638,\n",
       " 1.0793668565650834)"
      ]
     },
     "execution_count": 59,
     "metadata": {},
     "output_type": "execute_result"
    },
    {
     "data": {
      "image/png": "[encoded data removed]",
      "text/plain": [
       "<Figure size 432x288 with 1 Axes>"
      ]
     },
     "metadata": {
      "needs_background": "light"
     },
     "output_type": "display_data"
    }
   ],
   "source": [
    "phi = np.random.uniform(low=0, high=2 * np.pi, size=500)\n",
    "r = np.random.uniform(size=500)\n",
    "r = np.sqrt(r)\n",
    "\n",
    "plt.scatter(r * np.cos(phi), r * np.sin(phi))\n",
    "plt.axis('equal')"
   ]
  },
  {
   "cell_type": "markdown",
   "metadata": {
    "colab_type": "text",
    "id": "EyDObV-ty70e"
   },
   "source": [
    "### Задача\n",
    "Напишите функцию, которая моделирует случайное симметричное блуждание на двумерной решетке длины n c началом и концом в точке (0, 0). Приведите графики выборочных траекторий для n=100."
   ]
  },
  {
   "cell_type": "markdown",
   "metadata": {},
   "source": [
    "Для удобства перейдем из координат $ (x, y) $ в коодинаты $ (a, b) $, где $ a = x + y, b = x - y$. В новых координатах возможные действия следующие: $ (+1, +1), (+1, -1), (-1, +1), (-1, -1) $. Можем считать, что у нас есть два независимых случайных блуждания на прямой. В этой ситуации легко сгенерировать случайное блуждания с центром и концом в $ (0, 0) $: достаточно сгенерировать два одномерных случайных блуждание с началом и концом в 0, а для этого нужно лишь выбрать $ \\frac{n}{2} $ плюс единиц из $ n $ ходов. Переход в исходные координаты: $ x = \\frac{a + b}{2}, y = \\frac{b - a}{2} $."
   ]
  },
  {
   "cell_type": "code",
   "execution_count": 122,
   "metadata": {
    "colab": {},
    "colab_type": "code",
    "id": "iaSUB9Ocy8hU"
   },
   "outputs": [
    {
     "data": {
      "text/plain": [
       "[<matplotlib.lines.Line2D at 0x11a3033c8>]"
      ]
     },
     "execution_count": 122,
     "metadata": {},
     "output_type": "execute_result"
    },
    {
     "data": {
      "image/png": "[encoded data removed]",
      "text/plain": [
       "<Figure size 432x288 with 1 Axes>"
      ]
     },
     "metadata": {
      "needs_background": "light"
     },
     "output_type": "display_data"
    }
   ],
   "source": [
    "n = 100\n",
    "\n",
    "a_minus_index = np.random.choice(np.arange(n), n // 2, replace=False)\n",
    "b_minus_index = np.random.choice(np.arange(n), n // 2, replace=False)\n",
    "\n",
    "a_steps = np.ones(n)\n",
    "a_steps[a_minus_index] = -1\n",
    "\n",
    "b_steps = np.ones(n)\n",
    "b_steps[b_minus_index] = -1\n",
    "\n",
    "a = np.cumsum(a_steps)\n",
    "b = np.cumsum(b_steps)\n",
    "\n",
    "x = (a + b) / 2\n",
    "y = (b - a) / 2\n",
    "\n",
    "plt.plot(x, y)"
   ]
  },
  {
   "cell_type": "markdown",
   "metadata": {
    "colab_type": "text",
    "id": "FV7suL2pdiZa"
   },
   "source": [
    "## Random normal generator"
   ]
  },
  {
   "cell_type": "markdown",
   "metadata": {
    "colab_type": "text",
    "id": "YalKYO-bdiZb"
   },
   "source": [
    "### Задача\n",
    "Докажите, что приведенный ниже алгоритм (Box-Muller algorithm) формирует выборку из независимых N(0,1) случаных величин. Модифицируйте метод, чтобы исключить вызовы тригонометрических функций ```np.sin``` и ```np.cos```. С помощью модивицированного метода смоделируйте выборку объема 1000 из двумерного гауссовского распределения со средним (3, 6) и ковариационной матрицей ((2, 1), (1, 4)). Постройте 2D гистограмму полученного распределения."
   ]
  },
  {
   "cell_type": "code",
   "execution_count": 208,
   "metadata": {
    "colab": {},
    "colab_type": "code",
    "id": "L2ZJeRoJdiZc",
    "outputId": "5d57c746-0ffd-48d1-de6e-c4276349b305"
   },
   "outputs": [
    {
     "data": {
      "image/png": "[encoded data removed]",
      "text/plain": [
       "<Figure size 1080x360 with 3 Axes>"
      ]
     },
     "metadata": {
      "needs_background": "light"
     },
     "output_type": "display_data"
    }
   ],
   "source": [
    "n = 1000\n",
    "u1, u2 = np.random.rand(2, n)\n",
    "r = np.sqrt(-2 * np.log(u1))\n",
    "theta = 2 * np.pi * u2\n",
    "x = r * np.cos(theta)\n",
    "y = r * np.sin(theta)\n",
    "fig, ax = plt.subplots(1, 3, figsize=(15, 5))\n",
    "ax[0].hist2d(x, y, bins=30)\n",
    "ax[0].axis('equal')\n",
    "ax[1].hist(x, bins=30)\n",
    "ax[2].hist(y, bins=30)\n",
    "ax[0].set_title(\"2d histogram\")\n",
    "ax[1].set_title(\"Histogram of x\")\n",
    "ax[2].set_title(\"Histogram of y\")\n",
    "plt.show()"
   ]
  },
  {
   "cell_type": "markdown",
   "metadata": {},
   "source": [
    "Пусть $ X, Y $ независимые нормальные случайные величины с дисперсией 1. При линейно замене с матрицей $ A $ матрица ковариаций $X, Y $ переходит в $ A^T A $. Нетрудно проверить, что требуемая матрица получается при $ A = \\begin{pmatrix}\n",
    "\\frac{\\sqrt{7}}{2} & \\frac{1}{2} \\\\\n",
    "0 & 2\n",
    "\\end{pmatrix}$. Для получения требуемого математического ожидание нужно просто его добавить."
   ]
  },
  {
   "cell_type": "code",
   "execution_count": 209,
   "metadata": {},
   "outputs": [
    {
     "data": {
      "image/png": "[encoded data removed]",
      "text/plain": [
       "<Figure size 1080x360 with 3 Axes>"
      ]
     },
     "metadata": {
      "needs_background": "light"
     },
     "output_type": "display_data"
    }
   ],
   "source": [
    "new_x = np.sqrt(7) / 2 * x + 1 / 2 * y + 3\n",
    "new_y = 2 * y + 6\n",
    "\n",
    "fig, ax = plt.subplots(1, 3, figsize=(15, 5))\n",
    "ax[0].hist2d(new_x, new_y, bins=30)\n",
    "ax[0].axis('equal')\n",
    "ax[1].hist(new_x, bins=30)\n",
    "ax[2].hist(new_y, bins=30)\n",
    "ax[0].set_title(\"2d histogram\")\n",
    "ax[1].set_title(\"Histogram of x\")\n",
    "ax[2].set_title(\"Histogram of y\")\n",
    "plt.show()"
   ]
  },
  {
   "cell_type": "code",
   "execution_count": 211,
   "metadata": {},
   "outputs": [
    {
     "data": {
      "text/plain": [
       "(3.0457526764770035, 5.97204447719269)"
      ]
     },
     "execution_count": 211,
     "metadata": {},
     "output_type": "execute_result"
    }
   ],
   "source": [
    "np.mean(new_x), np.mean(new_y)"
   ]
  },
  {
   "cell_type": "code",
   "execution_count": 214,
   "metadata": {},
   "outputs": [
    {
     "data": {
      "text/plain": [
       "array([[2.00625654, 1.07479076],\n",
       "       [1.07479076, 4.05320001]])"
      ]
     },
     "execution_count": 214,
     "metadata": {},
     "output_type": "execute_result"
    }
   ],
   "source": [
    "np.cov([new_x, new_y])"
   ]
  },
  {
   "cell_type": "markdown",
   "metadata": {
    "colab_type": "text",
    "id": "14IvUqPM35xs"
   },
   "source": [
    "## Практическое задание\n",
    "\n",
    "Реализовать метод генерации случайного разбиения n-элементного множества на подмножества. С его помощью оценить ожидаемое число подмножеств в случайном разбиении множества из 100 элементов. \n",
    "\n",
    "Подсказка 1: Ширяев, Вероятность, т1, задача 2 к параграфу 1.\n",
    "\n",
    "Подсказка 2: http://djalil.chafai.net/blog/2012/05/03/generating-uniform-random-partitions/"
   ]
  },
  {
   "cell_type": "code",
   "execution_count": 444,
   "metadata": {},
   "outputs": [],
   "source": [
    "def generate_partition(n, size):\n",
    "    prob = np.zeros(n)\n",
    "    \n",
    "    fact = 1\n",
    "    for i in range(n):\n",
    "        fact *= (i + 1)\n",
    "        prob[i] = (i + 1)**n / fact\n",
    "    prob /= prob.sum()\n",
    "    \n",
    "    num_groups = np.random.choice(np.arange(1, n + 1), p=prob, size=size)\n",
    "    ans = np.zeros((size, n))\n",
    "    for i in range(size):\n",
    "        ans[i, :] = np.random.choice(np.arange(1, num_groups[i] + 1), size=n)\n",
    "    return ans"
   ]
  },
  {
   "cell_type": "markdown",
   "metadata": {},
   "source": [
    "Математическое ожидание числа подмножеств в случайном разбиении множества из 100 элементов:"
   ]
  },
  {
   "cell_type": "code",
   "execution_count": 468,
   "metadata": {},
   "outputs": [
    {
     "data": {
      "text/plain": [
       "29.5995"
      ]
     },
     "execution_count": 468,
     "metadata": {},
     "output_type": "execute_result"
    }
   ],
   "source": [
    "generate_partition(100, 10000).max(axis=1).mean()"
   ]
  }
 ],
 "metadata": {
  "colab": {
   "collapsed_sections": [],
   "name": "Random_numbers.ipynb",
   "provenance": []
  },
  "kernelspec": {
   "display_name": "Python 3",
   "language": "python",
   "name": "python3"
  },
  "language_info": {
   "codemirror_mode": {
    "name": "ipython",
    "version": 3
   },
   "file_extension": ".py",
   "mimetype": "text/x-python",
   "name": "python",
   "nbconvert_exporter": "python",
   "pygments_lexer": "ipython3",
   "version": "3.7.3"
  }
 },
 "nbformat": 4,
 "nbformat_minor": 1
}
