{
 "cells": [
  {
   "cell_type": "markdown",
   "metadata": {},
   "source": [
    "# Библиотека Numpy"
   ]
  },
  {
   "cell_type": "code",
   "execution_count": 1,
   "metadata": {},
   "outputs": [
    {
     "name": "stdout",
     "output_type": "stream",
     "text": [
      "2.37 ms ± 73.8 µs per loop (mean ± std. dev. of 7 runs, 100 loops each)\n"
     ]
    }
   ],
   "source": [
    "L=range(10000)\n",
    "%timeit [i**2 for i in L]"
   ]
  },
  {
   "cell_type": "code",
   "execution_count": 2,
   "metadata": {},
   "outputs": [
    {
     "name": "stdout",
     "output_type": "stream",
     "text": [
      "4.17 µs ± 226 ns per loop (mean ± std. dev. of 7 runs, 100000 loops each)\n"
     ]
    }
   ],
   "source": [
    "import numpy as np\n",
    "L=np.arange(10000)\n",
    "%timeit L**2"
   ]
  },
  {
   "cell_type": "markdown",
   "metadata": {},
   "source": [
    "### Основной объект - однородный массив ndarray\n",
    "Его главные состовляющие:\n",
    "* data - указатель в памяти на начало массива\n",
    "* shape - размерности массива\n",
    "* dtype - тип элементов массива\n",
    "* stride - описание того, как считывать массив "
   ]
  },
  {
   "cell_type": "code",
   "execution_count": 3,
   "metadata": {},
   "outputs": [
    {
     "name": "stdout",
     "output_type": "stream",
     "text": [
      "<memory at 0x10d7a5990>\n",
      "(2, 5)\n",
      "int64\n",
      "(40, 8)\n"
     ]
    }
   ],
   "source": [
    "my_2d_array = np.arange(10).reshape((2, 5))\n",
    "\n",
    "# Print out memory address\n",
    "print(my_2d_array.data)\n",
    "\n",
    "# Print out the shape of `my_array`\n",
    "print(my_2d_array.shape)\n",
    "\n",
    "# Print out the data type of `my_array`\n",
    "print(my_2d_array.dtype)\n",
    "\n",
    "# Print out the stride of `my_array`\n",
    "print(my_2d_array.strides)"
   ]
  },
  {
   "cell_type": "markdown",
   "metadata": {},
   "source": [
    "### Способы задания массивов"
   ]
  },
  {
   "cell_type": "code",
   "execution_count": 4,
   "metadata": {},
   "outputs": [
    {
     "data": {
      "text/plain": [
       "array([[1, 0, 0],\n",
       "       [0, 2, 0],\n",
       "       [0, 0, 3]])"
      ]
     },
     "execution_count": 4,
     "metadata": {},
     "output_type": "execute_result"
    }
   ],
   "source": [
    "# Create an array of ones\n",
    "np.ones((3, 4))\n",
    "\n",
    "# Create an array of zeros\n",
    "np.zeros((2, 3, 4), dtype=np.int16)\n",
    "\n",
    "# Create an array with random values\n",
    "np.random.random((2, 2))\n",
    "\n",
    "# Create an empty array\n",
    "np.empty((3, 2))\n",
    "\n",
    "# Create a full array\n",
    "np.full((2, 2), 7)\n",
    "\n",
    "# Create an array of evenly-spaced values\n",
    "np.arange(10, 25, 5)\n",
    "\n",
    "# Create an array of evenly-spaced values\n",
    "np.linspace(0, 2, 9)\n",
    "\n",
    "# Create a diagonal matrix\n",
    "np.diag([1, 2, 3])"
   ]
  },
  {
   "cell_type": "markdown",
   "metadata": {},
   "source": [
    "#### Exercise \n",
    "\n",
    "Consider the vector [1, 2, 3, 4, 5], how to build a new vector with 3 consecutive zeros interleaved between each value?\n"
   ]
  },
  {
   "cell_type": "code",
   "execution_count": 5,
   "metadata": {},
   "outputs": [
    {
     "data": {
      "text/plain": [
       "array([1, 0, 0, 2, 0, 0, 3, 0, 0, 4, 0, 0, 5])"
      ]
     },
     "execution_count": 5,
     "metadata": {},
     "output_type": "execute_result"
    }
   ],
   "source": [
    "np.insert(np.arange(1, 6), np.repeat(np.arange(1, 5), 2), 0)"
   ]
  },
  {
   "cell_type": "markdown",
   "metadata": {},
   "source": [
    "### Индексация элементов массива"
   ]
  },
  {
   "cell_type": "code",
   "execution_count": 6,
   "metadata": {},
   "outputs": [
    {
     "name": "stdout",
     "output_type": "stream",
     "text": [
      "0 [3 9] [3 4 5 6 7 8 9] [6 7] [0 1 2 3 4 5 6]\n"
     ]
    }
   ],
   "source": [
    "a = np.arange(10)\n",
    "print(a[0], a[[3, -1]], a[3:], a[6: -2], a[:-3])"
   ]
  },
  {
   "cell_type": "code",
   "execution_count": 7,
   "metadata": {},
   "outputs": [
    {
     "name": "stdout",
     "output_type": "stream",
     "text": [
      "0 [0 1 0]\n"
     ]
    }
   ],
   "source": [
    "a = np.diag(np.arange(3))\n",
    "print(a[1, 2], a[1])"
   ]
  },
  {
   "cell_type": "code",
   "execution_count": 8,
   "metadata": {},
   "outputs": [
    {
     "name": "stdout",
     "output_type": "stream",
     "text": [
      "[False False  True False False  True False False  True False]\n",
      "[12 15 18]\n",
      "[10 11 -1 13 14 -1 16 17 -1 19]\n"
     ]
    }
   ],
   "source": [
    "a = np.arange(10, 20)\n",
    "mask = a % 3 == 0 \n",
    "print(mask) \n",
    "print(a[mask])\n",
    "\n",
    "a[mask] = -1\n",
    "print(a)"
   ]
  },
  {
   "cell_type": "markdown",
   "metadata": {},
   "source": [
    "#### Exercise\n",
    "\n",
    "Create a 8x8 matrix and fill it with a checkerboard pattern."
   ]
  },
  {
   "cell_type": "code",
   "execution_count": 9,
   "metadata": {},
   "outputs": [
    {
     "data": {
      "text/plain": [
       "array([[0, 1, 0, 1, 0, 1, 0, 1],\n",
       "       [1, 0, 1, 0, 1, 0, 1, 0],\n",
       "       [0, 1, 0, 1, 0, 1, 0, 1],\n",
       "       [1, 0, 1, 0, 1, 0, 1, 0],\n",
       "       [0, 1, 0, 1, 0, 1, 0, 1],\n",
       "       [1, 0, 1, 0, 1, 0, 1, 0],\n",
       "       [0, 1, 0, 1, 0, 1, 0, 1],\n",
       "       [1, 0, 1, 0, 1, 0, 1, 0]])"
      ]
     },
     "execution_count": 9,
     "metadata": {},
     "output_type": "execute_result"
    }
   ],
   "source": [
    "np.indices((8, 8)).sum(axis=0) % 2"
   ]
  },
  {
   "cell_type": "markdown",
   "metadata": {},
   "source": [
    "### Арифметические операции выполняются поэлементно"
   ]
  },
  {
   "cell_type": "code",
   "execution_count": 10,
   "metadata": {},
   "outputs": [
    {
     "name": "stdout",
     "output_type": "stream",
     "text": [
      "[2 3 4]\n",
      "[2 4 8]\n",
      "[1 4 9]\n"
     ]
    }
   ],
   "source": [
    "a = np.arange(1, 4)\n",
    "print(a + 1)\n",
    "print(2**a)\n",
    "print(a**2)"
   ]
  },
  {
   "cell_type": "markdown",
   "metadata": {},
   "source": [
    "### Функции над массивами"
   ]
  },
  {
   "cell_type": "code",
   "execution_count": 11,
   "metadata": {},
   "outputs": [
    {
     "name": "stdout",
     "output_type": "stream",
     "text": [
      "6 [0.84147098 0.90929743 0.14112001] 2.0 0.816496580927726\n",
      "4.5 [2.5 3.5 4.5 5.5 6.5]\n",
      "False True\n",
      "-0.46932927887504666 [-0.46932928 -0.39037958  0.07370948  0.22557972  1.15711368] [3 4 2 0 1]\n"
     ]
    }
   ],
   "source": [
    "a = np.array([1, 2, 3])\n",
    "print(np.sum(a), np.sin(a), np.mean(a), np.std(a))\n",
    "\n",
    "a=np.arange(10).reshape((2, 5))\n",
    "print(np.mean(a), np.mean(a, axis=0))\n",
    "\n",
    "a = np.zeros((100, 100)) \n",
    "print(np.any(a != 0) , np.all(a == 0))\n",
    "\n",
    "a = np.random.randn(5)\n",
    "print(np.min(a), np.sort(a), np.argsort(a))"
   ]
  },
  {
   "cell_type": "markdown",
   "metadata": {},
   "source": [
    "#### Exercise\n",
    "\n",
    "Generate a random 5x5 matrix. Subtract the mean of each row of a matrix."
   ]
  },
  {
   "cell_type": "code",
   "execution_count": 12,
   "metadata": {},
   "outputs": [
    {
     "name": "stdout",
     "output_type": "stream",
     "text": [
      "[[-0.26489426  0.06881869 -0.23015701 -0.11542309  0.54165567]\n",
      " [ 0.01134848 -0.53983576  0.092689    0.32507905  0.11071924]\n",
      " [-0.26192143  0.14725572 -0.06786514 -0.08531458  0.26784542]\n",
      " [-0.29902553 -0.00928604  0.38442172 -0.04354711 -0.03256304]\n",
      " [ 0.09811926 -0.35641598  0.3140535  -0.18806011  0.13230333]]\n",
      "[ 0.00000000e+00 -3.33066907e-16 -3.33066907e-16 -2.22044605e-16\n",
      "  2.77555756e-16]\n"
     ]
    }
   ],
   "source": [
    "matr = np.random.random((5, 5))\n",
    "matr = (matr.T - matr.mean(axis=1)).T\n",
    "print(matr)\n",
    "print(matr.sum(axis=1))"
   ]
  },
  {
   "cell_type": "markdown",
   "metadata": {},
   "source": [
    "### Сложение массивов"
   ]
  },
  {
   "cell_type": "code",
   "execution_count": 13,
   "metadata": {},
   "outputs": [
    {
     "name": "stdout",
     "output_type": "stream",
     "text": [
      "[[4. 0.]\n",
      " [4. 9.]]\n",
      "[[7. 5.]\n",
      " [9. 1.]]\n",
      "\n",
      "--Concatenate a and b--\n",
      "\n",
      "[[4. 0.]\n",
      " [4. 9.]\n",
      " [7. 5.]\n",
      " [9. 1.]]\n",
      "[[4. 0. 7. 5.]\n",
      " [4. 9. 9. 1.]]\n"
     ]
    }
   ],
   "source": [
    "a = np.floor(10 * np.random.rand(2, 2))\n",
    "print(a)\n",
    "\n",
    "b = np.floor(10 * np.random.rand(2, 2))\n",
    "print(b)\n",
    "\n",
    "print('\\n--Concatenate a and b--\\n')\n",
    "\n",
    "print(np.vstack((a, b))) # сложение по вертикали\n",
    "print(np.hstack((a, b))) # сложение по горизонтали"
   ]
  },
  {
   "cell_type": "markdown",
   "metadata": {},
   "source": [
    "### Array broadcasting\n",
    "Схема ниже показывает, как происходит скложение массивов. Если shape у массивов не совпадают, то массив меньшей размерности \"естественным образом\" дополняется до большей размерности."
   ]
  },
  {
   "cell_type": "markdown",
   "metadata": {},
   "source": [
    "![title](http://www.scipy-lectures.org/_images/numpy_broadcasting.png)"
   ]
  },
  {
   "cell_type": "code",
   "execution_count": 14,
   "metadata": {},
   "outputs": [
    {
     "name": "stdout",
     "output_type": "stream",
     "text": [
      "(3, 4) (4,)\n",
      "[[1.90231048 1.22737566 1.33362507 1.32695274]\n",
      " [1.90231048 1.22737566 1.33362507 1.32695274]\n",
      " [1.90231048 1.22737566 1.33362507 1.32695274]]\n"
     ]
    }
   ],
   "source": [
    "x = np.ones((3, 4))\n",
    "y = np.random.rand(4)\n",
    "\n",
    "# Add `x` and `y`. Note that `x` and `y` have different shapes.\n",
    "print(x.shape, y.shape)\n",
    "print(x + y)"
   ]
  },
  {
   "cell_type": "markdown",
   "metadata": {},
   "source": [
    "#### Exercise\n",
    "\n",
    "Создайте масив first_column из четырех элементов: 0, 10, 20, 30. Затем создайте двухмерный массив 4x5, в котором первый столбец - массив first_column, а каждый элемент каждой строки, начиная со второго,  больше предыдущего элемента этой же строки на 1."
   ]
  },
  {
   "cell_type": "code",
   "execution_count": 15,
   "metadata": {},
   "outputs": [
    {
     "data": {
      "text/plain": [
       "array([[ 0,  1,  2,  3,  4],\n",
       "       [10, 11, 12, 13, 14],\n",
       "       [20, 21, 22, 23, 24],\n",
       "       [30, 31, 32, 33, 34]])"
      ]
     },
     "execution_count": 15,
     "metadata": {},
     "output_type": "execute_result"
    }
   ],
   "source": [
    "first_column = np.arange(0, 40, 10)\n",
    "first_column.reshape((-1, 1)) + np.arange(5)"
   ]
  },
  {
   "cell_type": "markdown",
   "metadata": {},
   "source": [
    "### Let's practice: k-means clustering algorithm"
   ]
  },
  {
   "cell_type": "markdown",
   "metadata": {},
   "source": [
    "<img src=\"https://www.brandidea.com/images/datascience/kmeansxmeans.jpg\" style=\"width: 60%;\"/>\n"
   ]
  },
  {
   "cell_type": "markdown",
   "metadata": {},
   "source": [
    "Get dataset on old faithful geyser eruptions:"
   ]
  },
  {
   "cell_type": "code",
   "execution_count": 16,
   "metadata": {},
   "outputs": [],
   "source": [
    "data = np.loadtxt('http://www.stat.cmu.edu/~larry/all-of-statistics/=data/faithful.dat', skiprows=26)[:, 1:]"
   ]
  },
  {
   "cell_type": "markdown",
   "metadata": {},
   "source": [
    "Visualize data:"
   ]
  },
  {
   "cell_type": "code",
   "execution_count": 17,
   "metadata": {},
   "outputs": [
    {
     "data": {
      "text/plain": [
       "<Figure size 640x480 with 1 Axes>"
      ]
     },
     "metadata": {},
     "output_type": "display_data"
    }
   ],
   "source": [
    "import matplotlib.pyplot as plt\n",
    "\n",
    "plt.scatter(*data.T)\n",
    "plt.xlabel('Eruption time (min)')\n",
    "plt.ylabel('Waiting time ti next eruption (min)')\n",
    "plt.show()"
   ]
  },
  {
   "cell_type": "markdown",
   "metadata": {},
   "source": [
    "Standardize data to zero mean and unit std:"
   ]
  },
  {
   "cell_type": "code",
   "execution_count": 18,
   "metadata": {},
   "outputs": [],
   "source": [
    "data = (data - data.mean(axis=0)) / data.std(axis=0)"
   ]
  },
  {
   "cell_type": "markdown",
   "metadata": {},
   "source": [
    "Plot standardized data:"
   ]
  },
  {
   "cell_type": "code",
   "execution_count": 19,
   "metadata": {},
   "outputs": [
    {
     "data": {
      "image/png": "[encoded data removed]",
      "text/plain": [
       "<Figure size 432x288 with 1 Axes>"
      ]
     },
     "metadata": {
      "needs_background": "light"
     },
     "output_type": "display_data"
    }
   ],
   "source": [
    "plt.scatter(*data.T)\n",
    "plt.show()"
   ]
  },
  {
   "cell_type": "markdown",
   "metadata": {},
   "source": [
    "Initial guess on centroid locations:"
   ]
  },
  {
   "cell_type": "code",
   "execution_count": 20,
   "metadata": {},
   "outputs": [],
   "source": [
    "centroids = np.random.uniform(-2, 2, 4).reshape((2, 2))"
   ]
  },
  {
   "cell_type": "markdown",
   "metadata": {},
   "source": [
    "Calculate the Euclidean distance between each point in ```data``` and each point in ```centroids```:"
   ]
  },
  {
   "cell_type": "code",
   "execution_count": 21,
   "metadata": {},
   "outputs": [],
   "source": [
    "dist = np.hstack([np.linalg.norm(data - centroid, axis=1).reshape(-1, 1) for centroid in centroids])"
   ]
  },
  {
   "cell_type": "markdown",
   "metadata": {},
   "source": [
    "Get label (index number) of each closest centroid from the ```dist``` array:"
   ]
  },
  {
   "cell_type": "code",
   "execution_count": 22,
   "metadata": {},
   "outputs": [
    {
     "data": {
      "text/plain": [
       "array([0, 0, 0, 0, 0, 0, 0, 0, 0, 0, 0, 0, 0, 0, 0, 0, 0, 0, 0, 0, 0, 0,\n",
       "       0, 0, 0, 0, 0, 0, 0, 0, 0, 0, 0, 0, 0, 0, 0, 0, 0, 0, 0, 0, 0, 0,\n",
       "       0, 0, 0, 0, 0, 0, 0, 0, 0, 0, 0, 0, 0, 0, 0, 0, 0, 0, 0, 0, 0, 0,\n",
       "       0, 0, 0, 0, 0, 0, 0, 0, 0, 0, 0, 0, 0, 0, 0, 0, 0, 0, 0, 0, 0, 0,\n",
       "       0, 0, 0, 0, 0, 0, 0, 0, 0, 0, 0, 0, 0, 0, 0, 0, 0, 0, 0, 0, 0, 0,\n",
       "       0, 0, 0, 0, 0, 0, 0, 0, 0, 0, 0, 0, 0, 0, 0, 0, 0, 0, 0, 0, 0, 0,\n",
       "       0, 0, 0, 0, 0, 0, 0, 0, 0, 0, 0, 0, 0, 0, 0, 0, 0, 0, 0, 0, 0, 0,\n",
       "       0, 0, 0, 0, 0, 0, 0, 0, 0, 0, 0, 0, 0, 0, 0, 0, 0, 0, 0, 0, 0, 0,\n",
       "       0, 0, 0, 0, 0, 0, 0, 0, 0, 0, 0, 0, 0, 0, 0, 0, 0, 0, 0, 0, 0, 0,\n",
       "       0, 0, 0, 0, 0, 0, 0, 0, 0, 0, 0, 0, 0, 0, 0, 0, 0, 0, 0, 0, 0, 0,\n",
       "       0, 0, 0, 0, 0, 0, 0, 0, 0, 0, 0, 0, 0, 0, 0, 0, 0, 0, 0, 0, 0, 0,\n",
       "       0, 0, 0, 0, 0, 0, 0, 0, 0, 0, 0, 0, 0, 0, 0, 0, 0, 0, 0, 0, 0, 0,\n",
       "       0, 0, 0, 0, 0, 0, 0, 0])"
      ]
     },
     "execution_count": 22,
     "metadata": {},
     "output_type": "execute_result"
    }
   ],
   "source": [
    "np.argmin(dist, axis=1)"
   ]
  },
  {
   "cell_type": "markdown",
   "metadata": {},
   "source": [
    "Put all this together in functional form:"
   ]
  },
  {
   "cell_type": "code",
   "execution_count": 23,
   "metadata": {},
   "outputs": [],
   "source": [
    "def get_labels(pts, centroids):\n",
    "    '''Get index number of closest centroid to each item in X\n",
    "\n",
    "    Parameters\n",
    "    ----------\n",
    "    pts : ndarray\n",
    "        Array of points.\n",
    "    centroids : ndarray\n",
    "        Array of centroids.\n",
    "\n",
    "    Returns\n",
    "    -------\n",
    "    res : ndarray\n",
    "        Indices of closest centroids for each item in X.\n",
    "    '''\n",
    "    dist = np.hstack([np.linalg.norm(pts - centroid, axis=1).reshape(-1, 1) for centroid in centroids])\n",
    "    return np.argmin(dist, axis=1)"
   ]
  },
  {
   "cell_type": "markdown",
   "metadata": {},
   "source": [
    "Get labels according to current centroids:"
   ]
  },
  {
   "cell_type": "code",
   "execution_count": 24,
   "metadata": {},
   "outputs": [],
   "source": [
    "labels = get_labels(data, centroids)"
   ]
  },
  {
   "cell_type": "markdown",
   "metadata": {},
   "source": [
    "Plot predicted classes. Circles show data points distribution, stars show centroids location:"
   ]
  },
  {
   "cell_type": "code",
   "execution_count": 25,
   "metadata": {
    "scrolled": true
   },
   "outputs": [
    {
     "data": {
      "image/png": "[encoded data removed]",
      "text/plain": [
       "<Figure size 432x288 with 1 Axes>"
      ]
     },
     "metadata": {
      "needs_background": "light"
     },
     "output_type": "display_data"
    }
   ],
   "source": [
    "import matplotlib.pyplot as plt\n",
    "%matplotlib inline\n",
    "\n",
    "plt.scatter(*data.T, c=np.where(labels, \"green\", \"red\"), s=20)\n",
    "plt.scatter(*centroids.T, c=[\"red\", \"green\"], s=95, marker='*')\n",
    "plt.title('Predicted Classes')\n",
    "plt.show()"
   ]
  },
  {
   "cell_type": "markdown",
   "metadata": {},
   "source": [
    "It was only one step in K-Means clustering. In the homework you will be asked to implement iterative procedure of K-Means clustering."
   ]
  },
  {
   "cell_type": "markdown",
   "metadata": {},
   "source": [
    "### Read more\n",
    "\n",
    "[https://www.scipy-lectures.org/intro/numpy/array_object.html](https://www.scipy-lectures.org/intro/numpy/array_object.html)\n",
    "\n",
    "[https://www.datacamp.com/community/tutorials/python-numpy-tutorial](https://www.datacamp.com/community/tutorials/python-numpy-tutorial)\n",
    "\n",
    "[https://docs.scipy.org/doc/numpy/user/quickstart.html](https://docs.scipy.org/doc/numpy/user/quickstart.html)\n",
    "\n",
    "[https://home.deib.polimi.it/matteucc/Clustering/tutorial_html/kmeans.html](https://home.deib.polimi.it/matteucc/Clustering/tutorial_html/kmeans.html)"
   ]
  },
  {
   "cell_type": "markdown",
   "metadata": {},
   "source": [
    "### Homework"
   ]
  },
  {
   "cell_type": "markdown",
   "metadata": {},
   "source": [
    "1. Создайте двумерный массив 10x3, заполненный случайными значениями. В каждой строке выберите значение, наиболее близкое к 0.5.\n",
    "\n",
    "1. Создайте двумерный массив 6x6, заполненный случайными значениями. Затем сумму по каждой строке поделите на минимальный элемент из столбца с тем же индексом.\n",
    "\n",
    "2. На примере массива x = np.array([6, 2, 0, 3, 0, 0, 5, 7, 0]) найдите максимальный элемент в массиве среди элементов, перед которыми стоит ноль.\n",
    "\n",
    "3. Пусть заданы два массива x = np.ones(10) и i = np.array([0, 1, 2, 3, 5, 5, 5, 8]). Прибавьте единицу к тем элементам массива x, индексы которых указаны в массиве i. В случае, если некоторый индекс встретился в массиве i несколько раз, прибавьте к соответствующему элементу массива x число вхождений данного индекса в массив i.\n",
    "\n",
    "4. По заданному двумерному массиву размера NxN постройте словарь, ключи которого - индексы диагоналей, параллельных побочной (нумерация начинается с 0), а значения - списки элементов исходного массива, лежащих на соответствующих диагоналях.\n",
    "Решите задачу на примере массива a = np.arange(16).reshape(4, 4), в результате должен получиться словарь\n",
    "{0: [0],\n",
    " 1: [1, 4],\n",
    " 2: [2, 5, 8],\n",
    " 3: [3, 6, 9, 12],\n",
    " 4: [7, 10, 13],\n",
    " 5: [11, 14],\n",
    " 6: [15]}.\n",
    " \n",
    "5. Написать функцию, реализующую алгоритм k-means. Входные и выходные значения функции должны быть аналогичны https://docs.scipy.org/doc/scipy-0.15.1/reference/generated/scipy.cluster.vq.kmeans.html. Функция должна содержать только один цикл while (for)."
   ]
  },
  {
   "cell_type": "markdown",
   "metadata": {},
   "source": [
    "## Задача 1"
   ]
  },
  {
   "cell_type": "code",
   "execution_count": 26,
   "metadata": {},
   "outputs": [
    {
     "name": "stdout",
     "output_type": "stream",
     "text": [
      "[[6.06563247e-02 9.07882116e-01 8.11992275e-01]\n",
      " [5.63477356e-01 3.29026578e-01 8.14536758e-01]\n",
      " [7.49986507e-01 2.97819714e-01 5.95587703e-01]\n",
      " [7.04319019e-01 1.64548118e-01 2.45460365e-01]\n",
      " [3.07855016e-01 2.20870434e-01 1.19263831e-01]\n",
      " [5.28137300e-01 2.49087727e-01 5.86930815e-02]\n",
      " [7.02882725e-01 9.80144246e-01 7.48551532e-01]\n",
      " [5.85666630e-01 3.21455993e-04 8.61694546e-01]\n",
      " [6.98708923e-01 6.79611362e-01 8.84679380e-03]\n",
      " [3.43609747e-01 8.95879428e-01 7.99336183e-02]]\n",
      "[0.81199227 0.56347736 0.5955877  0.70431902 0.30785502 0.5281373\n",
      " 0.70288272 0.58566663 0.67961136 0.34360975]\n"
     ]
    }
   ],
   "source": [
    "matr = np.random.random((10, 3))\n",
    "\n",
    "close = matr[np.arange(10), np.abs(matr - .5).argmin(axis=1)]\n",
    "\n",
    "print(matr)\n",
    "print(close)"
   ]
  },
  {
   "cell_type": "markdown",
   "metadata": {},
   "source": [
    "## Задача 2"
   ]
  },
  {
   "cell_type": "code",
   "execution_count": 27,
   "metadata": {},
   "outputs": [
    {
     "name": "stdout",
     "output_type": "stream",
     "text": [
      "[[0.68505504 0.40214872 0.04387162 0.27278396 0.84275359 0.79443049]\n",
      " [0.08682025 0.2327763  0.32287114 0.22480297 0.82863947 0.58072096]\n",
      " [0.59954608 0.02450962 0.4370915  0.33789676 0.95461486 0.3569699 ]\n",
      " [0.63869236 0.48377872 0.93796381 0.99945344 0.03293606 0.6318411 ]\n",
      " [0.14718297 0.75907601 0.53306951 0.05104443 0.0043575  0.89287621]\n",
      " [0.86652781 0.59403266 0.9117106  0.59984469 0.38604972 0.7420234 ]]\n",
      "[ 35.02689203  92.88723301  61.78547185  72.96908384 547.93022917\n",
      "  11.48609138]\n"
     ]
    }
   ],
   "source": [
    "matr = np.random.random((6, 6))\n",
    "\n",
    "print(matr)\n",
    "print(matr.sum(axis=1) / matr.min(axis=0))"
   ]
  },
  {
   "cell_type": "markdown",
   "metadata": {},
   "source": [
    "## Задача 3"
   ]
  },
  {
   "cell_type": "code",
   "execution_count": 28,
   "metadata": {},
   "outputs": [
    {
     "data": {
      "text/plain": [
       "5"
      ]
     },
     "execution_count": 28,
     "metadata": {},
     "output_type": "execute_result"
    }
   ],
   "source": [
    "x = np.array([6, 2, 0, 3, 0, 0, 5, 7, 0])\n",
    "\n",
    "x[np.where(x[:-1] == 0)[0] + 1].max()"
   ]
  },
  {
   "cell_type": "markdown",
   "metadata": {},
   "source": [
    "## Задача 4"
   ]
  },
  {
   "cell_type": "code",
   "execution_count": 29,
   "metadata": {},
   "outputs": [
    {
     "name": "stdout",
     "output_type": "stream",
     "text": [
      "[2. 2. 2. 2. 1. 4. 1. 1. 2. 1.]\n"
     ]
    }
   ],
   "source": [
    "x = np.ones(10)\n",
    "i = np.array([0, 1, 2, 3, 5, 5, 5, 8])\n",
    "\n",
    "np.add.at(x, i, 1)\n",
    "\n",
    "print(x)"
   ]
  },
  {
   "cell_type": "markdown",
   "metadata": {},
   "source": [
    "## Задача 5"
   ]
  },
  {
   "cell_type": "code",
   "execution_count": 30,
   "metadata": {},
   "outputs": [
    {
     "name": "stdout",
     "output_type": "stream",
     "text": [
      "[[ 0  1  2  3]\n",
      " [ 4  5  6  7]\n",
      " [ 8  9 10 11]\n",
      " [12 13 14 15]]\n",
      "{0: [0], 1: [1, 4], 2: [2, 5, 8], 3: [3, 6, 9, 12], 4: [7, 10, 13], 5: [11, 14], 6: [15]}\n"
     ]
    }
   ],
   "source": [
    "a = np.arange(16).reshape(4, 4)\n",
    "N = a.shape[0]\n",
    "\n",
    "diag = {i: [a[j, i - j] for j in range(i + 1) if j < N and i - j < N] for i in range(N * 2 - 1)}\n",
    "\n",
    "print(a)\n",
    "print(diag)"
   ]
  },
  {
   "cell_type": "markdown",
   "metadata": {},
   "source": [
    "## Задача 6"
   ]
  },
  {
   "cell_type": "code",
   "execution_count": 31,
   "metadata": {},
   "outputs": [],
   "source": [
    "def get_score(pts, centroids, labels):\n",
    "    return sum( \\\n",
    "        np.linalg.norm(pts[labels == label] - centroids[label], axis=1).sum() \\\n",
    "            for label in range(centroids.shape[0]) \\\n",
    "    ) / pts.shape[0]\n"
   ]
  },
  {
   "cell_type": "code",
   "execution_count": 32,
   "metadata": {},
   "outputs": [],
   "source": [
    "def kmeans(obs, k_or_guess, iter=20, thresh=1e-05):\n",
    "    if not isinstance(k_or_guess, np.ndarray):\n",
    "        centroids = np.random.random((k_or_guess, obs.shape[1]))\n",
    "    else:\n",
    "        centroids = np.copy(k_or_guess)\n",
    "\n",
    "    labels = get_labels(obs, centroids)\n",
    "    score = get_score(obs, centroids, labels)\n",
    "\n",
    "    best_score = score\n",
    "    best_centroids = centroids\n",
    "    while True:\n",
    "        centroids = np.array([obs[labels == label].mean(axis=0) for label in range(centroids.shape[0])])\n",
    "        labels = get_labels(obs, centroids)\n",
    "        old_score = score\n",
    "        score = get_score(obs, centroids, labels)\n",
    "\n",
    "        if score < best_score:\n",
    "            best_score = score\n",
    "            best_centroids = centroids\n",
    "        \n",
    "        if not isinstance(k_or_guess, np.ndarray):\n",
    "            iter -= 1\n",
    "            if iter == 0:\n",
    "                break\n",
    "        \n",
    "        if abs(score - old_score) < thresh:\n",
    "            break\n",
    "\n",
    "    return best_centroids, best_score"
   ]
  },
  {
   "cell_type": "code",
   "execution_count": 33,
   "metadata": {},
   "outputs": [
    {
     "data": {
      "image/png": "[encoded data removed]",
      "text/plain": [
       "<Figure size 432x288 with 1 Axes>"
      ]
     },
     "metadata": {
      "needs_background": "light"
     },
     "output_type": "display_data"
    }
   ],
   "source": [
    "my_centroids, my_score = kmeans(data, 2)\n",
    "my_labels = get_labels(data, my_centroids)\n",
    "\n",
    "plt.scatter(*data.T, c=np.where(my_labels, \"green\", \"red\"), s=20)\n",
    "plt.scatter(*my_centroids.T, c=[\"red\", \"green\"], s=95, marker='*')\n",
    "plt.title('Predicted Classes')\n",
    "plt.show()"
   ]
  },
  {
   "cell_type": "code",
   "execution_count": 34,
   "metadata": {},
   "outputs": [
    {
     "data": {
      "image/png": "[encoded data removed]",
      "text/plain": [
       "<Figure size 432x288 with 1 Axes>"
      ]
     },
     "metadata": {
      "needs_background": "light"
     },
     "output_type": "display_data"
    }
   ],
   "source": [
    "import scipy.cluster\n",
    "\n",
    "centroids, score = scipy.cluster.vq.kmeans(data, 2)\n",
    "labels = get_labels(data, centroids)\n",
    "\n",
    "plt.scatter(*data.T, c=np.where(labels, \"green\", \"red\"), s=20)\n",
    "plt.scatter(*centroids.T, c=[\"red\", \"green\"], s=95, marker='*')\n",
    "plt.title('Predicted Classes')\n",
    "plt.show()"
   ]
  },
  {
   "cell_type": "code",
   "execution_count": 35,
   "metadata": {},
   "outputs": [
    {
     "data": {
      "text/plain": [
       "(0.0, -5.551115123125783e-17)"
      ]
     },
     "execution_count": 35,
     "metadata": {},
     "output_type": "execute_result"
    }
   ],
   "source": [
    "np.abs(my_centroids[::-1, :] - centroids).max(), my_score - score"
   ]
  },
  {
   "cell_type": "code",
   "execution_count": null,
   "metadata": {},
   "outputs": [],
   "source": []
  }
 ],
 "metadata": {
  "anaconda-cloud": {},
  "kernelspec": {
   "display_name": "Python 3",
   "language": "python",
   "name": "python3"
  },
  "language_info": {
   "codemirror_mode": {
    "name": "ipython",
    "version": 3
   },
   "file_extension": ".py",
   "mimetype": "text/x-python",
   "name": "python",
   "nbconvert_exporter": "python",
   "pygments_lexer": "ipython3",
   "version": "3.7.3"
  }
 },
 "nbformat": 4,
 "nbformat_minor": 1
}
