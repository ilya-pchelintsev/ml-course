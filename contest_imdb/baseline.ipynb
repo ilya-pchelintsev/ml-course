{
 "cells": [
  {
   "cell_type": "code",
   "execution_count": 1,
   "metadata": {},
   "outputs": [],
   "source": [
    "import numpy as np\n",
    "import pandas as pd\n",
    "\n",
    "from sklearn.model_selection import train_test_split\n",
    "from sklearn.metrics import f1_score\n",
    "from sklearn.feature_extraction.text import TfidfVectorizer\n",
    "from sklearn.linear_model import LogisticRegression, SGDClassifier\n",
    "\n",
    "df = pd.read_csv(\"~/Downloads/naive-bayes-imdb/train.csv\", index_col=0)"
   ]
  },
  {
   "cell_type": "code",
   "execution_count": 2,
   "metadata": {},
   "outputs": [
    {
     "name": "stdout",
     "output_type": "stream",
     "text": [
      "0.912259021255561\n"
     ]
    }
   ],
   "source": [
    "vectorizer = TfidfVectorizer(ngram_range=(1, 2), min_df=20).fit(df.review)\n",
    "df_train, df_test = train_test_split(df, test_size=0.2, shuffle=True)\n",
    "\n",
    "X_train_vectors = vectorizer.transform(df_train.review)\n",
    "X_test_vectors = vectorizer.transform(df_test.review)\n",
    "\n",
    "clf = LogisticRegression(max_iter=2000, tol=1e-8, C=6)\n",
    "clf.fit(X_train_vectors, df_train.label)\n",
    "\n",
    "print(f1_score(df_test.label, clf.predict(X_test_vectors)))"
   ]
  },
  {
   "cell_type": "code",
   "execution_count": 3,
   "metadata": {},
   "outputs": [],
   "source": [
    "X = vectorizer.transform(df.review)\n",
    "clf = LogisticRegression(max_iter=2000, tol=1e-8, C=6).fit(X, df.label)\n",
    "\n",
    "test = pd.read_csv('~/Downloads/naive-bayes-imdb/test.csv', index_col=0)\n",
    "predicted = clf.predict(vectorizer.transform(test.review))\n",
    "\n",
    "pd.DataFrame({'Predicted': predicted}).to_csv('solution.csv', index_label='Id')"
   ]
  }
 ],
 "metadata": {
  "kernelspec": {
   "display_name": "Python 3",
   "language": "python",
   "name": "python3"
  },
  "language_info": {
   "codemirror_mode": {
    "name": "ipython",
    "version": 3
   },
   "file_extension": ".py",
   "mimetype": "text/x-python",
   "name": "python",
   "nbconvert_exporter": "python",
   "pygments_lexer": "ipython3",
   "version": "3.7.3"
  }
 },
 "nbformat": 4,
 "nbformat_minor": 4
}
