{
 "cells": [
  {
   "cell_type": "markdown",
   "metadata": {},
   "source": [
    "## Exercise 15 (3 points)\n",
    "\n",
    "Write a program (using functions!) that asks the user for a long string containing multiple words. Print back to the user the same string, except with the words in backwards order. For example, say I type the string:\n",
    "  \n",
    "  My name is Michele\n",
    "\n",
    "Then I would see the string:\n",
    "\n",
    "  Michele is name My\n",
    "\n",
    "shown back to me."
   ]
  },
  {
   "cell_type": "code",
   "execution_count": 1,
   "metadata": {},
   "outputs": [],
   "source": [
    "def reverse_word_order(text):\n",
    "    words_reversed = reversed(text.split(' '))\n",
    "    return ' '.join(words_reversed)"
   ]
  },
  {
   "cell_type": "code",
   "execution_count": 2,
   "metadata": {},
   "outputs": [
    {
     "name": "stdout",
     "output_type": "stream",
     "text": [
      "My name is Michele\n",
      "Michele is name My\n"
     ]
    }
   ],
   "source": [
    "print(reverse_word_order(input()))"
   ]
  },
  {
   "cell_type": "markdown",
   "metadata": {},
   "source": [
    "## Exercise 16 (4 points)\n",
    "\n",
    "Write a password generator in Python. Be creative with how you generate passwords - strong passwords have a mix of lowercase letters, uppercase letters, numbers, and symbols. The passwords should be random, generating a new password every time the user asks for a new password. Include your run-time code in a main method.\n",
    "\n"
   ]
  },
  {
   "cell_type": "code",
   "execution_count": 3,
   "metadata": {},
   "outputs": [],
   "source": [
    "import string\n",
    "import random\n",
    "\n",
    "def generate_password(password_length):\n",
    "    alphabet = string.ascii_letters + string.digits + '_@'\n",
    "    return ''.join(random.sample(alphabet, password_length))"
   ]
  },
  {
   "cell_type": "code",
   "execution_count": 4,
   "metadata": {},
   "outputs": [
    {
     "name": "stdout",
     "output_type": "stream",
     "text": [
      "IiUnoz@mW0\n"
     ]
    }
   ],
   "source": [
    "print(generate_password(10))"
   ]
  },
  {
   "cell_type": "markdown",
   "metadata": {},
   "source": [
    "## Exercise 17 (4 points)\n",
    "\n",
    "Use the BeautifulSoup and requests Python packages to print out a list of all the article titles on the New York Times homepage."
   ]
  },
  {
   "cell_type": "code",
   "execution_count": 5,
   "metadata": {},
   "outputs": [],
   "source": [
    "import bs4\n",
    "import requests\n",
    "\n",
    "def print_nytimes_headlines():\n",
    "    request = requests.get('http://www.nytimes.com/')\n",
    "    soup = bs4.BeautifulSoup(request.text)\n",
    "    for title in soup.find_all('h2', attrs={'class': 'esl82me0'}):\n",
    "        print(title.text)"
   ]
  },
  {
   "cell_type": "code",
   "execution_count": 6,
   "metadata": {},
   "outputs": [
    {
     "name": "stdout",
     "output_type": "stream",
     "text": [
      "Listen: ‘Modern Love’ Podcast\n",
      "‘In Her Words’\n",
      "Got a confidential news tip?\n",
      "Hurricane Dorian Slams Into Bahamas and Menaces Florida\n",
      "Scenes of Destruction Emerge From Bahamas\n",
      "Along a Tortured Path, Millions Are United in Fear\n",
      "Dozens Missing Following Boat Fire in Southern California, Officials Say\n",
      "U.S. Officials at Odds Over C.I.A.’s Role in Afghanistan\n",
      "Texas Shooting Brings New Urgency to Gun Debate in Congress\n",
      "Shooting Spree in West Texas Terrorized Two Towns and Killed 7\n",
      "On the Job, 24 Hours a Day, 27 Days a Month\n",
      "Does Biden Want to Be Doing This?\n",
      "Why Some Unions Are Holding Back on 2020 Endorsements\n",
      "Those Hurricane Maps Don’t Mean What You Think They Mean\n",
      "One Job Is Better Than Two\n",
      "One Job Is Better Than Two\n",
      "Texas Is a Leader in Mass Shootings. Why Is the Governor Silent?\n",
      "A Change Is Gonna Come\n",
      "The El Paso Shooting Was Racist Political Violence. Treat It That Way.\n",
      "The El Paso Shooting Was Racist, Political Violence. Treat It That Way.\n",
      "The Dignity of Disabled Lives\n",
      "How We Frame Disability Decides How We Live It\n",
      "That Beloved Hospital? It’s Driving Up Health Care Costs\n",
      "No One Threatens the Environment Like Donald Trump\n",
      "The People of Hong Kong Will Not Be Cowed by China\n",
      "The Police Can Arrest Us. But That Won’t Stop the People of Hong Kong.\n",
      "Mom and Dad, It’s My (Digital) Life\n",
      "What I Know About Famous Men’s Penises\n",
      "‘The Weekly’: How Tainted Gold May Be in Your Phone\n",
      "The Chefs Pushing Japanese Food in Unexpected Directions\n",
      "Summer’s Not Over! How to Extend Your Vacation\n"
     ]
    }
   ],
   "source": [
    "print_nytimes_headlines()"
   ]
  },
  {
   "cell_type": "markdown",
   "metadata": {},
   "source": [
    "## Exercise 28 (1 point)\n",
    "\n",
    "Implement a function that takes as input three variables, and returns the largest of the three. Do this without using the Python max() function!\n",
    "\n",
    "The goal of this exercise is to think about some internals that Python normally takes care of for us. All you need is some variables and if statements!\n",
    "\n"
   ]
  },
  {
   "cell_type": "code",
   "execution_count": 7,
   "metadata": {},
   "outputs": [],
   "source": [
    "def max3(a, b, c):\n",
    "    if a >= b and a >= c:\n",
    "        return a\n",
    "    elif b >= c:\n",
    "        return b\n",
    "    return c"
   ]
  },
  {
   "cell_type": "code",
   "execution_count": 8,
   "metadata": {},
   "outputs": [
    {
     "name": "stdout",
     "output_type": "stream",
     "text": [
      "4\n"
     ]
    }
   ],
   "source": [
    "print(max3(3, 4, 1))"
   ]
  }
 ],
 "metadata": {
  "kernelspec": {
   "display_name": "Python 3",
   "language": "python",
   "name": "python3"
  },
  "language_info": {
   "codemirror_mode": {
    "name": "ipython",
    "version": 3
   },
   "file_extension": ".py",
   "mimetype": "text/x-python",
   "name": "python",
   "nbconvert_exporter": "python",
   "pygments_lexer": "ipython3",
   "version": "3.7.3"
  }
 },
 "nbformat": 4,
 "nbformat_minor": 2
}
